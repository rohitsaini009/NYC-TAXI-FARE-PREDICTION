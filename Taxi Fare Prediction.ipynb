{
 "cells": [
  {
   "cell_type": "markdown",
   "id": "2c3dc669-cbee-43b3-bb1d-c4fcc0280cf4",
   "metadata": {},
   "source": [
    "# <center> NYC TAXI FARE PREDICTION </center>\n",
    "\n",
    "<center><img src=\"https://i0.wp.com/www.businesstraveller.nl/wp-content/uploads/2019/08/mmnmnn.jpg?fit=2560%2C1600&ssl=1\" width=700></center>\n",
    "\n",
    "# Objective\r",
    " \n",
    "This dataset is a record of taxi trips in New York City.\n",
    " These are the features of this dataset: Amount, date_time_of_pickup, longitude_of_pickup, latitude_of_pickup, longitude_of_dropoff        ,latitude_of_dropoff,no_of_passenger,hour,is_weekend,distance,minute,time_slot,is_holiday.\r\n",
    "\r\n",
    "Training observations are labeled with the fare amount paid.\r\n",
    "\r\n",
    "Our objective is to create a model that will accurately estimate the fare amount of trips in the test dataset. Accuracy is measured by ro t mean square \n",
    " rror.\r\n",
    "\r\n",
    "We will also be performing exploratory data analysis in an attempt to better understand the dataset"
   ]
  },
  {
   "cell_type": "markdown",
   "id": "a1f477c6-7871-406f-8de1-dda16c817044",
   "metadata": {},
   "source": [
    "# Results\n",
    "\n",
    "### Modeling\n",
    "\n",
    "* A Rendom Forest Regressor This model has 15 features, making the most use of the Distance,Hour and Time_slot.\n",
    "* The leaderboard RMSE obtained by this model is 2.44."
   ]
  },
  {
   "cell_type": "markdown",
   "id": "9936699d-364a-4d57-a16b-f909a1b10def",
   "metadata": {},
   "source": [
    "# EDA Insights\n",
    "* Most taxi rides have 1 passenger\n",
    "* Fares are highest around 5am, primarily due to long trips leaving the city.\t\n",
    "* No. of rides in every yera is constant\n",
    "* Average Fare by No. of Passengers is 10-11$"
   ]
  },
  {
   "cell_type": "markdown",
   "id": "2f4a9d7a-d77f-4c80-9d14-a5996f981492",
   "metadata": {},
   "source": [
    "# Importing Necessary Libraries"
   ]
  },
  {
   "cell_type": "code",
   "execution_count": 1,
   "id": "379a5d61-2c60-416c-92ab-af076d3a6d45",
   "metadata": {
    "scrolled": true
   },
   "outputs": [
    {
     "name": "stdout",
     "output_type": "stream",
     "text": [
      "✅ Libraries Imported Successfully\n"
     ]
    }
   ],
   "source": [
    "import pandas as pd\n",
    "import numpy as np\n",
    "import seaborn as sns\n",
    "import matplotlib.pyplot as plt\n",
    "\n",
    "print(\"✅ Libraries Imported Successfully\")"
   ]
  },
  {
   "cell_type": "markdown",
   "id": "a19748eb-efc3-442b-b0d1-1cd68008d7d1",
   "metadata": {},
   "source": [
    "# Data Exploration"
   ]
  },
  {
   "cell_type": "code",
   "execution_count": 2,
   "id": "3a8a6869-a013-48e3-a85a-7fbd7d6af2e6",
   "metadata": {},
   "outputs": [
    {
     "data": {
      "text/html": [
       "<div>\n",
       "<style scoped>\n",
       "    .dataframe tbody tr th:only-of-type {\n",
       "        vertical-align: middle;\n",
       "    }\n",
       "\n",
       "    .dataframe tbody tr th {\n",
       "        vertical-align: top;\n",
       "    }\n",
       "\n",
       "    .dataframe thead th {\n",
       "        text-align: right;\n",
       "    }\n",
       "</style>\n",
       "<table border=\"1\" class=\"dataframe\">\n",
       "  <thead>\n",
       "    <tr style=\"text-align: right;\">\n",
       "      <th></th>\n",
       "      <th>unique_id</th>\n",
       "      <th>amount</th>\n",
       "      <th>date_time_of_pickup</th>\n",
       "      <th>longitude_of_pickup</th>\n",
       "      <th>latitude_of_pickup</th>\n",
       "      <th>longitude_of_dropoff</th>\n",
       "      <th>latitude_of_dropoff</th>\n",
       "      <th>no_of_passenger</th>\n",
       "    </tr>\n",
       "  </thead>\n",
       "  <tbody>\n",
       "    <tr>\n",
       "      <th>0</th>\n",
       "      <td>26:21.0</td>\n",
       "      <td>4.5</td>\n",
       "      <td>2009-06-15 17:26:21+00:00</td>\n",
       "      <td>-73.844311</td>\n",
       "      <td>40.721319</td>\n",
       "      <td>-73.841610</td>\n",
       "      <td>40.712278</td>\n",
       "      <td>1</td>\n",
       "    </tr>\n",
       "    <tr>\n",
       "      <th>1</th>\n",
       "      <td>52:16.0</td>\n",
       "      <td>16.9</td>\n",
       "      <td>2010-01-05 16:52:16+00:00</td>\n",
       "      <td>-74.016048</td>\n",
       "      <td>40.711303</td>\n",
       "      <td>-73.979268</td>\n",
       "      <td>40.782004</td>\n",
       "      <td>1</td>\n",
       "    </tr>\n",
       "    <tr>\n",
       "      <th>2</th>\n",
       "      <td>35:00.0</td>\n",
       "      <td>5.7</td>\n",
       "      <td>2011-08-18 00:35:00+00:00</td>\n",
       "      <td>-73.982738</td>\n",
       "      <td>40.761270</td>\n",
       "      <td>-73.991242</td>\n",
       "      <td>40.750562</td>\n",
       "      <td>2</td>\n",
       "    </tr>\n",
       "    <tr>\n",
       "      <th>3</th>\n",
       "      <td>30:42.0</td>\n",
       "      <td>7.7</td>\n",
       "      <td>2012-04-21 04:30:42+00:00</td>\n",
       "      <td>-73.987130</td>\n",
       "      <td>40.733143</td>\n",
       "      <td>-73.991567</td>\n",
       "      <td>40.758092</td>\n",
       "      <td>1</td>\n",
       "    </tr>\n",
       "    <tr>\n",
       "      <th>4</th>\n",
       "      <td>51:00.0</td>\n",
       "      <td>5.3</td>\n",
       "      <td>2010-03-09 07:51:00+00:00</td>\n",
       "      <td>-73.968095</td>\n",
       "      <td>40.768008</td>\n",
       "      <td>-73.956655</td>\n",
       "      <td>40.783762</td>\n",
       "      <td>1</td>\n",
       "    </tr>\n",
       "  </tbody>\n",
       "</table>\n",
       "</div>"
      ],
      "text/plain": [
       "  unique_id  amount       date_time_of_pickup  longitude_of_pickup  \\\n",
       "0   26:21.0     4.5 2009-06-15 17:26:21+00:00           -73.844311   \n",
       "1   52:16.0    16.9 2010-01-05 16:52:16+00:00           -74.016048   \n",
       "2   35:00.0     5.7 2011-08-18 00:35:00+00:00           -73.982738   \n",
       "3   30:42.0     7.7 2012-04-21 04:30:42+00:00           -73.987130   \n",
       "4   51:00.0     5.3 2010-03-09 07:51:00+00:00           -73.968095   \n",
       "\n",
       "   latitude_of_pickup  longitude_of_dropoff  latitude_of_dropoff  \\\n",
       "0           40.721319            -73.841610            40.712278   \n",
       "1           40.711303            -73.979268            40.782004   \n",
       "2           40.761270            -73.991242            40.750562   \n",
       "3           40.733143            -73.991567            40.758092   \n",
       "4           40.768008            -73.956655            40.783762   \n",
       "\n",
       "   no_of_passenger  \n",
       "0                1  \n",
       "1                1  \n",
       "2                2  \n",
       "3                1  \n",
       "4                1  "
      ]
     },
     "execution_count": 2,
     "metadata": {},
     "output_type": "execute_result"
    }
   ],
   "source": [
    "df = pd.read_csv(\"TaxiFare.csv\", parse_dates=[\"date_time_of_pickup\"])\n",
    "df.head()"
   ]
  },
  {
   "cell_type": "code",
   "execution_count": 3,
   "id": "4b054ed2-2eaf-4628-803c-9aa3f8e7c50f",
   "metadata": {},
   "outputs": [
    {
     "data": {
      "text/plain": [
       "(50000, 8)"
      ]
     },
     "execution_count": 3,
     "metadata": {},
     "output_type": "execute_result"
    }
   ],
   "source": [
    "df.shape"
   ]
  },
  {
   "cell_type": "code",
   "execution_count": 4,
   "id": "2039ff67-fdc4-4c34-a738-837e04ec1f95",
   "metadata": {},
   "outputs": [
    {
     "name": "stdout",
     "output_type": "stream",
     "text": [
      "<class 'pandas.core.frame.DataFrame'>\n",
      "RangeIndex: 50000 entries, 0 to 49999\n",
      "Data columns (total 8 columns):\n",
      " #   Column                Non-Null Count  Dtype              \n",
      "---  ------                --------------  -----              \n",
      " 0   unique_id             50000 non-null  object             \n",
      " 1   amount                50000 non-null  float64            \n",
      " 2   date_time_of_pickup   50000 non-null  datetime64[ns, UTC]\n",
      " 3   longitude_of_pickup   50000 non-null  float64            \n",
      " 4   latitude_of_pickup    50000 non-null  float64            \n",
      " 5   longitude_of_dropoff  50000 non-null  float64            \n",
      " 6   latitude_of_dropoff   50000 non-null  float64            \n",
      " 7   no_of_passenger       50000 non-null  int64              \n",
      "dtypes: datetime64[ns, UTC](1), float64(5), int64(1), object(1)\n",
      "memory usage: 3.1+ MB\n"
     ]
    }
   ],
   "source": [
    "df.info()"
   ]
  },
  {
   "cell_type": "code",
   "execution_count": 5,
   "id": "015b23de-4868-473e-ad8c-1865bf814d40",
   "metadata": {
    "scrolled": true
   },
   "outputs": [
    {
     "data": {
      "text/html": [
       "<div>\n",
       "<style scoped>\n",
       "    .dataframe tbody tr th:only-of-type {\n",
       "        vertical-align: middle;\n",
       "    }\n",
       "\n",
       "    .dataframe tbody tr th {\n",
       "        vertical-align: top;\n",
       "    }\n",
       "\n",
       "    .dataframe thead th {\n",
       "        text-align: right;\n",
       "    }\n",
       "</style>\n",
       "<table border=\"1\" class=\"dataframe\">\n",
       "  <thead>\n",
       "    <tr style=\"text-align: right;\">\n",
       "      <th></th>\n",
       "      <th>amount</th>\n",
       "      <th>longitude_of_pickup</th>\n",
       "      <th>latitude_of_pickup</th>\n",
       "      <th>longitude_of_dropoff</th>\n",
       "      <th>latitude_of_dropoff</th>\n",
       "      <th>no_of_passenger</th>\n",
       "    </tr>\n",
       "  </thead>\n",
       "  <tbody>\n",
       "    <tr>\n",
       "      <th>count</th>\n",
       "      <td>50000.000000</td>\n",
       "      <td>50000.000000</td>\n",
       "      <td>50000.000000</td>\n",
       "      <td>50000.000000</td>\n",
       "      <td>50000.000000</td>\n",
       "      <td>50000.000000</td>\n",
       "    </tr>\n",
       "    <tr>\n",
       "      <th>mean</th>\n",
       "      <td>11.364171</td>\n",
       "      <td>-72.509756</td>\n",
       "      <td>39.933759</td>\n",
       "      <td>-72.504616</td>\n",
       "      <td>39.926251</td>\n",
       "      <td>1.667840</td>\n",
       "    </tr>\n",
       "    <tr>\n",
       "      <th>std</th>\n",
       "      <td>9.685557</td>\n",
       "      <td>10.393860</td>\n",
       "      <td>6.224857</td>\n",
       "      <td>10.407570</td>\n",
       "      <td>6.014737</td>\n",
       "      <td>1.289195</td>\n",
       "    </tr>\n",
       "    <tr>\n",
       "      <th>min</th>\n",
       "      <td>-5.000000</td>\n",
       "      <td>-75.423848</td>\n",
       "      <td>-74.006893</td>\n",
       "      <td>-84.654241</td>\n",
       "      <td>-74.006377</td>\n",
       "      <td>0.000000</td>\n",
       "    </tr>\n",
       "    <tr>\n",
       "      <th>25%</th>\n",
       "      <td>6.000000</td>\n",
       "      <td>-73.992062</td>\n",
       "      <td>40.734880</td>\n",
       "      <td>-73.991152</td>\n",
       "      <td>40.734372</td>\n",
       "      <td>1.000000</td>\n",
       "    </tr>\n",
       "    <tr>\n",
       "      <th>50%</th>\n",
       "      <td>8.500000</td>\n",
       "      <td>-73.981840</td>\n",
       "      <td>40.752678</td>\n",
       "      <td>-73.980082</td>\n",
       "      <td>40.753372</td>\n",
       "      <td>1.000000</td>\n",
       "    </tr>\n",
       "    <tr>\n",
       "      <th>75%</th>\n",
       "      <td>12.500000</td>\n",
       "      <td>-73.967148</td>\n",
       "      <td>40.767360</td>\n",
       "      <td>-73.963584</td>\n",
       "      <td>40.768167</td>\n",
       "      <td>2.000000</td>\n",
       "    </tr>\n",
       "    <tr>\n",
       "      <th>max</th>\n",
       "      <td>200.000000</td>\n",
       "      <td>40.783472</td>\n",
       "      <td>401.083332</td>\n",
       "      <td>40.851027</td>\n",
       "      <td>43.415190</td>\n",
       "      <td>6.000000</td>\n",
       "    </tr>\n",
       "  </tbody>\n",
       "</table>\n",
       "</div>"
      ],
      "text/plain": [
       "             amount  longitude_of_pickup  latitude_of_pickup  \\\n",
       "count  50000.000000         50000.000000        50000.000000   \n",
       "mean      11.364171           -72.509756           39.933759   \n",
       "std        9.685557            10.393860            6.224857   \n",
       "min       -5.000000           -75.423848          -74.006893   \n",
       "25%        6.000000           -73.992062           40.734880   \n",
       "50%        8.500000           -73.981840           40.752678   \n",
       "75%       12.500000           -73.967148           40.767360   \n",
       "max      200.000000            40.783472          401.083332   \n",
       "\n",
       "       longitude_of_dropoff  latitude_of_dropoff  no_of_passenger  \n",
       "count          50000.000000         50000.000000     50000.000000  \n",
       "mean             -72.504616            39.926251         1.667840  \n",
       "std               10.407570             6.014737         1.289195  \n",
       "min              -84.654241           -74.006377         0.000000  \n",
       "25%              -73.991152            40.734372         1.000000  \n",
       "50%              -73.980082            40.753372         1.000000  \n",
       "75%              -73.963584            40.768167         2.000000  \n",
       "max               40.851027            43.415190         6.000000  "
      ]
     },
     "execution_count": 5,
     "metadata": {},
     "output_type": "execute_result"
    }
   ],
   "source": [
    "df.describe()"
   ]
  },
  {
   "cell_type": "code",
   "execution_count": 6,
   "id": "0254a09a-bd47-4e33-8149-e6c5f39e22e9",
   "metadata": {
    "scrolled": true
   },
   "outputs": [
    {
     "data": {
      "text/plain": [
       "unique_id               0\n",
       "amount                  0\n",
       "date_time_of_pickup     0\n",
       "longitude_of_pickup     0\n",
       "latitude_of_pickup      0\n",
       "longitude_of_dropoff    0\n",
       "latitude_of_dropoff     0\n",
       "no_of_passenger         0\n",
       "dtype: int64"
      ]
     },
     "execution_count": 6,
     "metadata": {},
     "output_type": "execute_result"
    }
   ],
   "source": [
    "df.isnull().sum()"
   ]
  },
  {
   "cell_type": "markdown",
   "id": "3f2f4fef-9499-46ee-a56f-cd418ab01aed",
   "metadata": {},
   "source": [
    "# Feature Enginnering"
   ]
  },
  {
   "cell_type": "code",
   "execution_count": 7,
   "id": "087852b3-97c7-4597-a044-d0e425d6cf19",
   "metadata": {},
   "outputs": [],
   "source": [
    "df[\"hour\"] = df[\"date_time_of_pickup\"].dt.hour"
   ]
  },
  {
   "cell_type": "code",
   "execution_count": 8,
   "id": "d868d4c4-92a9-4095-a116-6b70fb0a76ed",
   "metadata": {},
   "outputs": [
    {
     "data": {
      "text/plain": [
       "1"
      ]
     },
     "execution_count": 8,
     "metadata": {},
     "output_type": "execute_result"
    }
   ],
   "source": [
    "df[\"date_time_of_pickup\"][1].weekday()"
   ]
  },
  {
   "cell_type": "code",
   "execution_count": 9,
   "id": "a3faeec1-00a3-4460-a3b8-67362228533a",
   "metadata": {},
   "outputs": [],
   "source": [
    "def weekend(x):\n",
    "  day_num = x.weekday()\n",
    "  if day_num < 5:\n",
    "    return 0\n",
    "  else:\n",
    "    return 1\n",
    "\n",
    "df[\"is_weekend\"] = df[\"date_time_of_pickup\"].apply(lambda x: weekend(x))"
   ]
  },
  {
   "cell_type": "code",
   "execution_count": 10,
   "id": "2069d393-4eb7-43f6-a13d-9deb08d97aa5",
   "metadata": {},
   "outputs": [],
   "source": [
    "from math import cos,asin,sqrt,pi\n",
    "\n",
    "def distance(lon1,lat1,lon2,lat2):\n",
    "    r = 6371\n",
    "    p = pi / 180\n",
    "\n",
    "    a = 0.5 - cos((lat2 - lat1)*p)/2 + cos(lat1*p) * cos(lat2*p) * (1-cos((lon2-lon1)*p))/2\n",
    "    return 2 * r * asin(sqrt(a))"
   ]
  },
  {
   "cell_type": "code",
   "execution_count": 11,
   "id": "6659193d-0978-40eb-9dc8-1957b0bacc9a",
   "metadata": {},
   "outputs": [],
   "source": [
    "data = []\n",
    "for x in df.iloc[:,3:7].values:\n",
    "    data.append(round(distance(x[0],x[1],x[2],x[3]),2))\n",
    "df[\"distance\"] = data    "
   ]
  },
  {
   "cell_type": "code",
   "execution_count": 12,
   "id": "5d1ec0a4-3d36-4bca-95e2-999c0e3c823c",
   "metadata": {},
   "outputs": [],
   "source": [
    "df[\"year\"] = df[\"date_time_of_pickup\"].dt.year\n"
   ]
  },
  {
   "cell_type": "code",
   "execution_count": 13,
   "id": "cf7c9f92-64f2-49c7-bbc9-f0c4fb745f42",
   "metadata": {},
   "outputs": [],
   "source": [
    "df[\"minute\"] = df[\"date_time_of_pickup\"].dt.minute\n"
   ]
  },
  {
   "cell_type": "code",
   "execution_count": 14,
   "id": "8024b18b-fc1a-4748-9e3f-dcd901dab379",
   "metadata": {},
   "outputs": [],
   "source": [
    "def time_slot(x):\n",
    "  hour = x[\"hour\"]\n",
    "  minute = x[\"minute\"]\n",
    "\n",
    "\n",
    "  if minute <= 15:\n",
    "    return hour\n",
    "  elif (minute > 15) & (minute < 45):\n",
    "    return hour + 0.5\n",
    "  else:\n",
    "    return hour + 1\n",
    "df[\"time_slot\"] = df.apply(lambda x: time_slot(x), axis = 1)        "
   ]
  },
  {
   "cell_type": "code",
   "execution_count": 15,
   "id": "504ce3d9-1026-442c-af80-2209240597db",
   "metadata": {},
   "outputs": [],
   "source": [
    "# Creating is_weekend column\n",
    "def weekend(x):\n",
    "  day_num = x.weekday()\n",
    "  if day_num < 5:\n",
    "    return 0\n",
    "  else:\n",
    "    return 1\n",
    "\n",
    "df[\"is_weekend\"] = df[\"date_time_of_pickup\"].apply(lambda x: weekend(x))"
   ]
  },
  {
   "cell_type": "code",
   "execution_count": 16,
   "id": "155b4e69-3775-4205-89a9-874c647a8d9e",
   "metadata": {},
   "outputs": [],
   "source": [
    "# create is_holiday column\n",
    "\n",
    "import holidays\n",
    "us_holiday = holidays.US(subdiv = \"NY\")\n",
    "def holiday(x):\n",
    "  if x in us_holiday:\n",
    "    return 1\n",
    "  else:\n",
    "    return 0\n",
    "\n",
    "df[\"is_holiday\"] = df[\"date_time_of_pickup\"].apply(lambda x: holiday(x))"
   ]
  },
  {
   "cell_type": "code",
   "execution_count": 17,
   "id": "6c927d0e-fb19-4922-ac3d-59039a9ae803",
   "metadata": {},
   "outputs": [],
   "source": [
    "from math import cos, asin, sqrt, pi\n",
    "\n",
    "def distance(lon1,lat1,lon2,lat2):\n",
    "    r = 6371 # km\n",
    "    p = pi / 180\n",
    "\n",
    "    a = 0.5 - cos((lat2-lat1)*p)/2 + cos(lat1*p) * cos(lat2*p) * (1-cos((lon2-lon1)*p))/2\n",
    "    return 2 * r * asin(sqrt(a))"
   ]
  },
  {
   "cell_type": "code",
   "execution_count": 18,
   "id": "fcd7c3ce-699c-4139-a7e7-177bb0cac2fd",
   "metadata": {},
   "outputs": [],
   "source": [
    "data =[]\n",
    "for x in df.iloc[:,3:7].values:\n",
    "  data.append(round(distance(x[0],x[1],x[2],x[3]),2))\n",
    "  \n",
    "df[\"distance\"] = data"
   ]
  },
  {
   "cell_type": "markdown",
   "id": "06cf0416-46ad-4efe-816c-214ba3594d92",
   "metadata": {},
   "source": [
    "# Data Cleaning"
   ]
  },
  {
   "cell_type": "code",
   "execution_count": 19,
   "id": "4e759e06-6633-4495-bcf0-82181af5dbc1",
   "metadata": {},
   "outputs": [],
   "source": [
    "df = df[(df['longitude_of_pickup']>=-75) & \n",
    "                    (df['longitude_of_pickup']<=-72) & \n",
    "                    (df['longitude_of_dropoff']>=-75) & \n",
    "                    (df['longitude_of_dropoff']<=-72) & \n",
    "                    (df['latitude_of_pickup']>=40) & \n",
    "                    (df['latitude_of_pickup']<=42) & \n",
    "                    (df['latitude_of_dropoff']>=40) & \n",
    "                    (df['latitude_of_dropoff']<=42) & \n",
    "                    (df['amount']>=1) & \n",
    "                    (df['amount']<=500) &\n",
    "                    (df['no_of_passenger']>=1) & \n",
    "                    (df['no_of_passenger']<=6)]"
   ]
  },
  {
   "cell_type": "code",
   "execution_count": 20,
   "id": "e4c8d465-5018-48b6-bbe0-7912e84e8704",
   "metadata": {},
   "outputs": [],
   "source": [
    "df.drop(index=df[(df[\"amount\"] <= 0 )].index,inplace=True)\n",
    "df.loc[df[\"amount\"]>40.25,[\"amount\"]] = df[df[\"amount\"]>40.25][\"amount\"]*0.60\n",
    "df.loc[df[\"amount\"]>22.25,[\"amount\"]] = 22.25\n",
    "df.drop(index = df[df[\"distance\"] >24].index,inplace = True)\n",
    "df.drop(index = df[df[\"distance\"] == 0 ].index,inplace = True)"
   ]
  },
  {
   "cell_type": "markdown",
   "id": "e1b689b1-0cdd-442f-be18-fc2bdab7e1f3",
   "metadata": {},
   "source": [
    "# Exploretory Data Analysis"
   ]
  },
  {
   "cell_type": "code",
   "execution_count": 21,
   "id": "18682cc4-2fef-4d5e-a3b0-516e63500fac",
   "metadata": {
    "scrolled": true
   },
   "outputs": [],
   "source": [
    "avg_fare = df.groupby(\"no_of_passenger\")[\"amount\"].mean()\n",
    "Avg_Fare = round(avg_fare,2)"
   ]
  },
  {
   "cell_type": "code",
   "execution_count": 22,
   "id": "6df2c50d-719e-4c96-bae2-af472d4108da",
   "metadata": {
    "scrolled": true
   },
   "outputs": [
    {
     "data": {
      "image/png": "[encoded data removed]",
      "text/plain": [
       "<Figure size 640x480 with 1 Axes>"
      ]
     },
     "metadata": {},
     "output_type": "display_data"
    }
   ],
   "source": [
    "sns.barplot(data = Avg_Fare ,x = Avg_Fare.index , y = Avg_Fare )\n",
    "plt.title('Average Fare by Passenger Count')\n",
    "plt.xlabel(\"no_of_passenger\")\n",
    "plt.ylabel(\"Amount\")\n",
    "plt.xticks(rotation = 45)\n",
    "plt.show()"
   ]
  },
  {
   "cell_type": "code",
   "execution_count": 23,
   "id": "5fc7dce6-9d4b-4554-acef-ff3f09b8215b",
   "metadata": {},
   "outputs": [
    {
     "data": {
      "image/png": "[encoded data removed]",
      "text/plain": [
       "<Figure size 1000x400 with 1 Axes>"
      ]
     },
     "metadata": {},
     "output_type": "display_data"
    }
   ],
   "source": [
    "year_insight = df.year.value_counts()\n",
    "\n",
    "plt.figure(figsize=(10, 4))\n",
    "palette = sns.color_palette() \n",
    "sns.barplot(data=df, x=year_insight.index, y=year_insight.values, palette=palette)\n",
    "plt.ylabel(\"Number of rides\")\n",
    "plt.xlabel(\"Years\")\n",
    "plt.show()"
   ]
  },
  {
   "cell_type": "code",
   "execution_count": 24,
   "id": "448c2f8c-1280-4ffe-bc75-2b66728426d7",
   "metadata": {
    "scrolled": true
   },
   "outputs": [],
   "source": [
    "# Avg_Amt_Hour = round(df.groupby(\"hour\")[\"amount\"].mean(),2)\n",
    "# sns.barplot(data = Avg_Amt_Hour ,x = Avg_Amt_Hour.index , y = Avg_Amt_Hour  )\n",
    "# plt.title('Average Fare by Each Hour')\n",
    "# plt.xlabel(\"Hour\")\n",
    "# plt.ylabel(\"Amount\")\n",
    "# plt.xticks(rotation = 45)\n",
    "# plt.show()"
   ]
  },
  {
   "cell_type": "code",
   "execution_count": 25,
   "id": "4969a598-cbce-4ccd-9b7c-210b89785b42",
   "metadata": {},
   "outputs": [
    {
     "data": {
      "image/png": "[encoded data removed]",
      "text/plain": [
       "<Figure size 1000x600 with 1 Axes>"
      ]
     },
     "metadata": {},
     "output_type": "display_data"
    }
   ],
   "source": [
    "da = df.groupby([\"hour\"])[\"amount\"].mean()\n",
    "plt.figure(figsize=(10,6))\n",
    "palette = sns.color_palette() \n",
    "plt.bar(data=da,x=da.index,height=da,color= palette)\n",
    "plt.title(\"Fare by Each Hour\")\n",
    "plt.xlabel(\"Hour\")\n",
    "plt.ylabel(\"Amount\")\n",
    "plt.show()"
   ]
  },
  {
   "cell_type": "code",
   "execution_count": 26,
   "id": "3c2229ca-5a59-45bc-b427-300841598552",
   "metadata": {},
   "outputs": [
    {
     "data": {
      "image/png": "[encoded data removed]",
      "text/plain": [
       "<Figure size 640x480 with 1 Axes>"
      ]
     },
     "metadata": {},
     "output_type": "display_data"
    }
   ],
   "source": [
    "sns.countplot(data=df, x=\"no_of_passenger\")\n",
    "plt.title(\"Distribution of no_of_passenger\")\n",
    "plt.xlabel(\"Number of passengers\")\n",
    "plt.ylabel(\"Frequency\")\n",
    "plt.show()\n"
   ]
  },
  {
   "cell_type": "markdown",
   "id": "bbc12625-c361-4265-b900-3786dd100ee9",
   "metadata": {},
   "source": [
    "Most taxi rides only have 1 passenger, but passenger count doesn't show any relationship to the fare amount."
   ]
  },
  {
   "cell_type": "markdown",
   "id": "8803dc1e-55eb-4262-a4d8-86d97ba784c9",
   "metadata": {},
   "source": [
    "# Spliting Data"
   ]
  },
  {
   "cell_type": "code",
   "execution_count": 27,
   "id": "c17abd52-0f9f-4df7-af95-3fa96afa68cc",
   "metadata": {
    "scrolled": true
   },
   "outputs": [
    {
     "name": "stdout",
     "output_type": "stream",
     "text": [
      "shape of X_train(38480, 3)\n",
      "shape of X_test(9621, 3)\n",
      "shape of y_train(38480,)\n",
      "shape of y_test(9621,)\n"
     ]
    }
   ],
   "source": [
    "# X = df[[\"hour\",\"distance\",\"is_weekend\",\"no_of_passenger\"]]\n",
    "X = df[[\"hour\",\"distance\",\"time_slot\"]]\n",
    "y = df[\"amount\"]\n",
    "\n",
    "from sklearn.model_selection import train_test_split\n",
    "\n",
    "X_train,X_test,y_train,y_test = train_test_split(X,y,test_size = 0.2,random_state= 42)\n",
    "print(f\"shape of X_train{X_train.shape}\")\n",
    "print(f\"shape of X_test{X_test.shape}\")\n",
    "print(f\"shape of y_train{y_train.shape}\")\n",
    "print(f\"shape of y_test{y_test.shape}\")"
   ]
  },
  {
   "cell_type": "markdown",
   "id": "7bdf3474-e423-4867-8d41-9740be4abe74",
   "metadata": {},
   "source": [
    "# Model Traning Random Forest Regresso"
   ]
  },
  {
   "cell_type": "code",
   "execution_count": 28,
   "id": "674585d1-ca4c-438f-ab84-8cebce5ce21b",
   "metadata": {
    "scrolled": true
   },
   "outputs": [
    {
     "data": {
      "text/html": [
       "<style>#sk-container-id-1 {color: black;}#sk-container-id-1 pre{padding: 0;}#sk-container-id-1 div.sk-toggleable {background-color: white;}#sk-container-id-1 label.sk-toggleable__label {cursor: pointer;display: block;width: 100%;margin-bottom: 0;padding: 0.3em;box-sizing: border-box;text-align: center;}#sk-container-id-1 label.sk-toggleable__label-arrow:before {content: \"▸\";float: left;margin-right: 0.25em;color: #696969;}#sk-container-id-1 label.sk-toggleable__label-arrow:hover:before {color: black;}#sk-container-id-1 div.sk-estimator:hover label.sk-toggleable__label-arrow:before {color: black;}#sk-container-id-1 div.sk-toggleable__content {max-height: 0;max-width: 0;overflow: hidden;text-align: left;background-color: #f0f8ff;}#sk-container-id-1 div.sk-toggleable__content pre {margin: 0.2em;color: black;border-radius: 0.25em;background-color: #f0f8ff;}#sk-container-id-1 input.sk-toggleable__control:checked~div.sk-toggleable__content {max-height: 200px;max-width: 100%;overflow: auto;}#sk-container-id-1 input.sk-toggleable__control:checked~label.sk-toggleable__label-arrow:before {content: \"▾\";}#sk-container-id-1 div.sk-estimator input.sk-toggleable__control:checked~label.sk-toggleable__label {background-color: #d4ebff;}#sk-container-id-1 div.sk-label input.sk-toggleable__control:checked~label.sk-toggleable__label {background-color: #d4ebff;}#sk-container-id-1 input.sk-hidden--visually {border: 0;clip: rect(1px 1px 1px 1px);clip: rect(1px, 1px, 1px, 1px);height: 1px;margin: -1px;overflow: hidden;padding: 0;position: absolute;width: 1px;}#sk-container-id-1 div.sk-estimator {font-family: monospace;background-color: #f0f8ff;border: 1px dotted black;border-radius: 0.25em;box-sizing: border-box;margin-bottom: 0.5em;}#sk-container-id-1 div.sk-estimator:hover {background-color: #d4ebff;}#sk-container-id-1 div.sk-parallel-item::after {content: \"\";width: 100%;border-bottom: 1px solid gray;flex-grow: 1;}#sk-container-id-1 div.sk-label:hover label.sk-toggleable__label {background-color: #d4ebff;}#sk-container-id-1 div.sk-serial::before {content: \"\";position: absolute;border-left: 1px solid gray;box-sizing: border-box;top: 0;bottom: 0;left: 50%;z-index: 0;}#sk-container-id-1 div.sk-serial {display: flex;flex-direction: column;align-items: center;background-color: white;padding-right: 0.2em;padding-left: 0.2em;position: relative;}#sk-container-id-1 div.sk-item {position: relative;z-index: 1;}#sk-container-id-1 div.sk-parallel {display: flex;align-items: stretch;justify-content: center;background-color: white;position: relative;}#sk-container-id-1 div.sk-item::before, #sk-container-id-1 div.sk-parallel-item::before {content: \"\";position: absolute;border-left: 1px solid gray;box-sizing: border-box;top: 0;bottom: 0;left: 50%;z-index: -1;}#sk-container-id-1 div.sk-parallel-item {display: flex;flex-direction: column;z-index: 1;position: relative;background-color: white;}#sk-container-id-1 div.sk-parallel-item:first-child::after {align-self: flex-end;width: 50%;}#sk-container-id-1 div.sk-parallel-item:last-child::after {align-self: flex-start;width: 50%;}#sk-container-id-1 div.sk-parallel-item:only-child::after {width: 0;}#sk-container-id-1 div.sk-dashed-wrapped {border: 1px dashed gray;margin: 0 0.4em 0.5em 0.4em;box-sizing: border-box;padding-bottom: 0.4em;background-color: white;}#sk-container-id-1 div.sk-label label {font-family: monospace;font-weight: bold;display: inline-block;line-height: 1.2em;}#sk-container-id-1 div.sk-label-container {text-align: center;}#sk-container-id-1 div.sk-container {/* jupyter's `normalize.less` sets `[hidden] { display: none; }` but bootstrap.min.css set `[hidden] { display: none !important; }` so we also need the `!important` here to be able to override the default hidden behavior on the sphinx rendered scikit-learn.org. See: https://github.com/scikit-learn/scikit-learn/issues/21755 */display: inline-block !important;position: relative;}#sk-container-id-1 div.sk-text-repr-fallback {display: none;}</style><div id=\"sk-container-id-1\" class=\"sk-top-container\"><div class=\"sk-text-repr-fallback\"><pre>RandomForestRegressor(max_depth=10, min_samples_leaf=6, random_state=0)</pre><b>In a Jupyter environment, please rerun this cell to show the HTML representation or trust the notebook. <br />On GitHub, the HTML representation is unable to render, please try loading this page with nbviewer.org.</b></div><div class=\"sk-container\" hidden><div class=\"sk-item\"><div class=\"sk-estimator sk-toggleable\"><input class=\"sk-toggleable__control sk-hidden--visually\" id=\"sk-estimator-id-1\" type=\"checkbox\" checked><label for=\"sk-estimator-id-1\" class=\"sk-toggleable__label sk-toggleable__label-arrow\">RandomForestRegressor</label><div class=\"sk-toggleable__content\"><pre>RandomForestRegressor(max_depth=10, min_samples_leaf=6, random_state=0)</pre></div></div></div></div></div>"
      ],
      "text/plain": [
       "RandomForestRegressor(max_depth=10, min_samples_leaf=6, random_state=0)"
      ]
     },
     "execution_count": 28,
     "metadata": {},
     "output_type": "execute_result"
    }
   ],
   "source": [
    "from sklearn.ensemble import RandomForestRegressor\n",
    "rfc = RandomForestRegressor(n_estimators=100,max_depth=10,random_state=0,min_samples_leaf = 6)\n",
    "rfc.fit(X_train,y_train)"
   ]
  },
  {
   "cell_type": "code",
   "execution_count": 29,
   "id": "1778525c-36ab-4a5d-8f82-38559d06d60e",
   "metadata": {},
   "outputs": [
    {
     "data": {
      "text/plain": [
       "0.8186898582786697"
      ]
     },
     "execution_count": 29,
     "metadata": {},
     "output_type": "execute_result"
    }
   ],
   "source": [
    "rfc.score(X_train,y_train)"
   ]
  },
  {
   "cell_type": "code",
   "execution_count": 30,
   "id": "74d84f7c-e074-4034-887f-d511c4edc44a",
   "metadata": {},
   "outputs": [
    {
     "data": {
      "text/plain": [
       "0.7967457523789419"
      ]
     },
     "execution_count": 30,
     "metadata": {},
     "output_type": "execute_result"
    }
   ],
   "source": [
    "rfc.score(X_test,y_test)"
   ]
  },
  {
   "cell_type": "code",
   "execution_count": 31,
   "id": "20364dd8-9921-4e23-b7aa-ec2ba3f2def1",
   "metadata": {},
   "outputs": [
    {
     "name": "stdout",
     "output_type": "stream",
     "text": [
      "2.313628247336867\n",
      "2.445266317068817\n"
     ]
    }
   ],
   "source": [
    "from sklearn.metrics import mean_squared_error\n",
    "\n",
    "rmse_train = mean_squared_error(y_train,rfc.predict(X_train),squared=False)\n",
    "rmse_test = mean_squared_error(y_test,rfc.predict(X_test),squared=False)\n",
    "\n",
    "print(rmse_train)\n",
    "print(rmse_test)"
   ]
  },
  {
   "cell_type": "markdown",
   "id": "3298d567-609c-4bbc-b8a4-6991560f52bb",
   "metadata": {},
   "source": [
    "# <center> Thank You !!</center>"
   ]
  }
 ],
 "metadata": {
  "kernelspec": {
   "display_name": "Python 3 (ipykernel)",
   "language": "python",
   "name": "python3"
  },
  "language_info": {
   "codemirror_mode": {
    "name": "ipython",
    "version": 3
   },
   "file_extension": ".py",
   "mimetype": "text/x-python",
   "name": "python",
   "nbconvert_exporter": "python",
   "pygments_lexer": "ipython3",
   "version": "3.11.4"
  }
 },
 "nbformat": 4,
 "nbformat_minor": 5
}
